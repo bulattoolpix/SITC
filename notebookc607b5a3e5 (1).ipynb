{
  "metadata": {
    "kernelspec": {
      "language": "python",
      "display_name": "Python 3",
      "name": "python3"
    },
    "language_info": {
      "name": "python",
      "version": "3.7.12",
      "mimetype": "text/x-python",
      "codemirror_mode": {
        "name": "ipython",
        "version": 3
      },
      "pygments_lexer": "ipython3",
      "nbconvert_exporter": "python",
      "file_extension": ".py"
    },
    "colab": {
      "private_outputs": true,
      "provenance": []
    },
    "accelerator": "GPU",
    "gpuClass": "standard"
  },
  "nbformat_minor": 0,
  "nbformat": 4,
  "cells": [
    {
      "cell_type": "code",
      "source": [
        "\n",
        "import pandas as pd\n",
        "import cufflinks as cf\n",
        "import requests\n",
        "import io\n",
        "import numpy as np \n",
        "# matplotlib\n",
        "import matplotlib.pyplot as plt\n",
        "\n",
        "%matplotlib inline"
      ],
      "metadata": {
        "execution": {
          "iopub.status.busy": "2022-11-05T09:21:06.968455Z",
          "iopub.execute_input": "2022-11-05T09:21:06.968847Z",
          "iopub.status.idle": "2022-11-05T09:21:06.975414Z",
          "shell.execute_reply.started": "2022-11-05T09:21:06.968824Z",
          "shell.execute_reply": "2022-11-05T09:21:06.973706Z"
        },
        "trusted": true,
        "id": "JQCpSGPyGsGL"
      },
      "execution_count": null,
      "outputs": []
    },
    {
      "cell_type": "code",
      "source": [
        "pip install plotly==3.10.0"
      ],
      "metadata": {
        "id": "M76Y0-20GsGT"
      },
      "execution_count": null,
      "outputs": []
    },
    {
      "cell_type": "code",
      "source": [
        "!pip install jupyter-dash"
      ],
      "metadata": {
        "id": "mmkn7MUfIDe8"
      },
      "execution_count": null,
      "outputs": []
    },
    {
      "cell_type": "code",
      "source": [
        "from plotly.offline import init_notebook_mode, iplot, plot\n",
        "import plotly as py\n",
        "init_notebook_mode(connected=True)\n",
        "import plotly.graph_objs as go"
      ],
      "metadata": {
        "id": "Dci3HtR3GsGV"
      },
      "execution_count": null,
      "outputs": []
    },
    {
      "cell_type": "code",
      "source": [
        "import plotly.graph_objects as go\n",
        "import plotly.express as px\n",
        "from jupyter_dash import JupyterDash\n",
        "import dash_core_components as dcc\n",
        "import dash_html_components as html\n",
        "from dash.dependencies import Input, Output "
      ],
      "metadata": {
        "id": "q49Mse1HIKuH"
      },
      "execution_count": null,
      "outputs": []
    },
    {
      "cell_type": "markdown",
      "source": [
        "<h2>Download and collecting the trade Import data </h2>\n",
        "    \n",
        "<h5>data derived from United Nations Statistics Division\n",
        "<br>official source:    https://comtrade.un.org/Data/    \n",
        "<br>email: comtrade@un.org "
      ],
      "metadata": {
        "id": "34BeufC2GsGZ"
      }
    },
    {
      "cell_type": "code",
      "source": [
        "##raw import data 2019\n",
        "url19 = \"https://raw.githubusercontent.com/bulattoolpix/SITC/main/comtrade%20(19FPART).csv\" \n",
        "url19_1 = \"https://raw.githubusercontent.com/bulattoolpix/SITC/main/comtrade%20(19_SecPart).csv\" \n",
        "download19 = requests.get(url19_1,url19).content\n",
        "\n",
        "##raw import data 2020\n",
        "url20 = \"https://raw.githubusercontent.com/bulattoolpix/SITC/main/20SPART.csv\" \n",
        "url20_2 ='https://raw.githubusercontent.com/bulattoolpix/SITC/main/comtrade%20(20_secprt).csv'\n",
        "url20_3 ='https://raw.githubusercontent.com/bulattoolpix/SITC/main/20FPART.csv'\n",
        "url20_4='https://raw.githubusercontent.com/bulattoolpix/SITC/main/2020_SITC_ADD.csv'\n",
        "download20= requests.get(url20,url20_2).content\n",
        "download20_= requests.get(url20_3,url20_4).content\n",
        "\n",
        "##raw import data 2021\n",
        "url21 = 'https://raw.githubusercontent.com/bulattoolpix/SITC/main/comtrade%20(21FPART).csv'\n",
        "url21_2 = 'https://raw.githubusercontent.com/bulattoolpix/SITC/main/comtrade%20(21SPART).csv'\n",
        "url21_3 = 'https://raw.githubusercontent.com/bulattoolpix/SITC/main/comtrade%20(21_secpart).csv'\n",
        "url21_4 = 'https://raw.githubusercontent.com/bulattoolpix/SITC/main/2021_SITC_ADD.csv'\n",
        "download21  = requests.get(url21,url21_2).content\n",
        "download21_ = requests.get(url21_3,url21_4).content\n",
        "\n",
        "\n",
        "# Reading the downloaded content and turning it into a pandas dataframe\n",
        "t19   = pd.read_csv(io.StringIO(download19.decode('utf-8')))\n",
        "t20   = pd.read_csv(io.StringIO(download20.decode('utf-8')))\n",
        "t20_2   = pd.read_csv(io.StringIO(download20_.decode('utf-8')))\n",
        "t21   = pd.read_csv(io.StringIO(download21.decode('utf-8')))\n",
        "t21_2   = pd.read_csv(io.StringIO(download21_.decode('utf-8')))\n",
        "\n",
        "##concatting\n",
        "import19 = pd.concat([t19]).drop_duplicates().reset_index(drop=True)\n",
        "import20 = pd.concat([t20,t20_2]).drop_duplicates().reset_index(drop=True)\n",
        "import21 = pd.concat([t21,t21_2]).drop_duplicates().reset_index(drop=True)\n",
        "\n",
        "##select Import flows only\n",
        "import19 = import19.loc[import19['Trade Flow'] == 'Import'].drop_duplicates()\n",
        "import20 = import20.loc[import20['Trade Flow'] == 'Import'].drop_duplicates()\n",
        "import21 = import20.loc[import20['Trade Flow'] == 'Import'].drop_duplicates()"
      ],
      "metadata": {
        "execution": {
          "iopub.status.busy": "2022-11-05T09:21:13.076254Z",
          "iopub.execute_input": "2022-11-05T09:21:13.076567Z",
          "iopub.status.idle": "2022-11-05T09:21:14.806728Z",
          "shell.execute_reply.started": "2022-11-05T09:21:13.076544Z",
          "shell.execute_reply": "2022-11-05T09:21:14.805314Z"
        },
        "trusted": true,
        "id": "3KfJU59lGsGd"
      },
      "execution_count": null,
      "outputs": []
    },
    {
      "cell_type": "code",
      "source": [
        "##raw import overall amt $ \n",
        "rus = \"https://raw.githubusercontent.com/bulattoolpix/SITC/main/Rus_voll.csv\" \n",
        "drus= requests.get(rus).content\n",
        "world_19 = \"https://raw.githubusercontent.com/bulattoolpix/SITC/main/comtrade%20(2019_World_all).csv\" \n",
        "d_19 = requests.get(world_19).content\n",
        "world_20 = \"https://raw.githubusercontent.com/bulattoolpix/SITC/main/comtrade%20(2020_World_all).csv\" \n",
        "d_20 = requests.get(world_20).content\n",
        "world_21 = \"https://raw.githubusercontent.com/bulattoolpix/SITC/main/comtrade%20(2021_World_all).csv\" \n",
        "d_21 = requests.get(world_21).content\n",
        "rcomp='https://raw.githubusercontent.com/bulattoolpix/SITC/main/rcacomp.csv'\n",
        "rus = pd.read_csv(io.StringIO(drus.decode('utf-8')))\n",
        "\n",
        "world19 = pd.read_csv(io.StringIO(d_19.decode('utf-8')))\n",
        "world20 = pd.read_csv(io.StringIO(d_20.decode('utf-8')))\n",
        "world21 = pd.read_csv(io.StringIO(d_21.decode('utf-8')))"
      ],
      "metadata": {
        "execution": {
          "iopub.status.busy": "2022-11-05T09:11:58.721682Z",
          "iopub.execute_input": "2022-11-05T09:11:58.722007Z",
          "iopub.status.idle": "2022-11-05T09:11:59.246667Z",
          "shell.execute_reply.started": "2022-11-05T09:11:58.721984Z",
          "shell.execute_reply": "2022-11-05T09:11:59.245296Z"
        },
        "trusted": true,
        "id": "1mIBp9u6GsGl"
      },
      "execution_count": null,
      "outputs": []
    },
    {
      "cell_type": "markdown",
      "source": [
        "<h3>Calculating Trade Value by Commodity Code and RCA"
      ],
      "metadata": {
        "id": "BXrA866oGsGm"
      }
    },
    {
      "cell_type": "code",
      "source": [
        "import19 [\"prod_import\"]=import19 [['Commodity Code', 'Trade Value (US$)']].groupby(by=[\"Commodity Code\"]).transform(np.sum)\n",
        "import20 [\"prod_import\"]=import20 [['Commodity Code', 'Trade Value (US$)']].groupby(by=[\"Commodity Code\"]).transform(np.sum)\n",
        "import21 [\"prod_import\"]=import21[['Commodity Code', 'Trade Value (US$)']].groupby(by=[\"Commodity Code\"]).transform(np.sum)\n",
        "\n",
        "import19 [\"world_import\"]=world19.loc[world19['Trade Flow'] == 'Import']['Trade Value (US$)'].sum()\n",
        "import20 [\"world_import\"]=world20.loc[world20['Trade Flow'] == 'Import']['Trade Value (US$)'].sum()\n",
        "import21 [\"world_import\"]=world21.loc[world21['Trade Flow'] == 'Import']['Trade Value (US$)'].sum()\n"
      ],
      "metadata": {
        "execution": {
          "iopub.status.busy": "2022-11-04T22:34:35.591531Z",
          "iopub.execute_input": "2022-11-04T22:34:35.592060Z",
          "iopub.status.idle": "2022-11-04T22:34:35.627097Z",
          "shell.execute_reply.started": "2022-11-04T22:34:35.592019Z",
          "shell.execute_reply": "2022-11-04T22:34:35.625556Z"
        },
        "trusted": true,
        "id": "R5Vpj_hOGsGn"
      },
      "execution_count": null,
      "outputs": []
    },
    {
      "cell_type": "code",
      "source": [
        "\n",
        "import19['rca']=rus['Trade Value (US$)'].loc[(rus['Trade Flow'] == 'Import') & (rus['Year'] == 2019)].values[0]/(import19[\"prod_import\"] / import19[\"world_import\"])\n",
        "import20['rca']=rus['Trade Value (US$)'].loc[(rus['Trade Flow'] == 'Import') & (rus['Year'] == 2020)].values[0]/(import20[\"prod_import\"] / import20[\"world_import\"])\n",
        "import21['rca']=rus['Trade Value (US$)'].loc[(rus['Trade Flow'] == 'Import') & (rus['Year'] == 2021)].values[0]/(import21[\"prod_import\"] / import21[\"world_import\"])\n"
      ],
      "metadata": {
        "execution": {
          "iopub.status.busy": "2022-11-04T22:34:37.387687Z",
          "iopub.execute_input": "2022-11-04T22:34:37.389393Z",
          "iopub.status.idle": "2022-11-04T22:34:37.407741Z",
          "shell.execute_reply.started": "2022-11-04T22:34:37.389313Z",
          "shell.execute_reply": "2022-11-04T22:34:37.405623Z"
        },
        "trusted": true,
        "id": "YkuFHTeaGsGn"
      },
      "execution_count": null,
      "outputs": []
    },
    {
      "cell_type": "code",
      "source": [
        "from IPython.core.interactiveshell import InteractiveShell\n",
        "InteractiveShell.ast_node_interactivity = \"all\""
      ],
      "metadata": {
        "id": "GXPCLPurJK4j"
      },
      "execution_count": null,
      "outputs": []
    },
    {
      "cell_type": "code",
      "source": [
        "import20ru=import20.loc[(import20['Reporter']=='Russian Federation')]\n",
        "import20ru.columns\n",
        "import20ru=import20.loc[(import20['Reporter']=='Russian Federation')].drop_duplicates()\n",
        "import20ru.rename(columns={'Commodity Code':'SITC'}, inplace=True)\n",
        "import20ru=import20ru.sort_values(by=([ 'SITC']),ascending=True)\n",
        "import20ru['Commodity'] =  import20ru['Commodity'].str.slice(0, 40)\n",
        "\n",
        "import19ru=import19.loc[(import19['Reporter']=='Russian Federation')].drop_duplicates()\n",
        "import19ru.rename(columns={'Commodity Code':'SITC'}, inplace=True)\n",
        " \n",
        "import21ru=import21.loc[(import21['Reporter']=='Russian Federation')].drop_duplicates()\n",
        "import21ru.rename(columns={'Commodity Code':'SITC'}, inplace=True)\n",
        "import21ru=import21ru.sort_values(by=([ 'SITC']),ascending=True)    \n",
        "import21ru['Commodity'] =  import21ru['Commodity'].str.slice(0, 40) "
      ],
      "metadata": {
        "execution": {
          "iopub.status.busy": "2022-11-05T00:53:11.647035Z",
          "iopub.execute_input": "2022-11-05T00:53:11.648536Z",
          "iopub.status.idle": "2022-11-05T00:53:11.694080Z",
          "shell.execute_reply.started": "2022-11-05T00:53:11.648487Z",
          "shell.execute_reply": "2022-11-05T00:53:11.692717Z"
        },
        "trusted": true,
        "id": "yJ9pXQnaGsGo"
      },
      "execution_count": null,
      "outputs": []
    },
    {
      "cell_type": "code",
      "source": [
        "%matplotlib inline\n",
        "rcomp='https://raw.githubusercontent.com/bulattoolpix/SITC/main/rcacomp.csv'\n",
        "rc = requests.get(rcomp).content\n",
        "imports   = pd.read_csv(io.StringIO(rc.decode('utf-8')))\n",
        "imports=imports.sort_values(by=([ 'SITC']),ascending=True)\n",
        "\n",
        "\n",
        "trace1 = go.Scatter(\n",
        "                    y=imports.rca,  x=imports.Commodity, mode = \"lines+markers\",\n",
        "                    name = \"2019 YEAR\",marker = dict(color = 'rgba(16, 112, 2, 0.8)')\n",
        "                    )\n",
        "\n",
        "trace2 = go.Scatter(\n",
        "                   y=imports.rca20,  x=imports.Commodity, mode = \"lines\",name = \"2020 YEAR\",\n",
        "                   marker = dict(color = 'ORANGE'),text= imports.Commodity)\n",
        "trace3 = go.Scatter(\n",
        "                     y=imports.rca21,  x=imports.Commodity, mode = \"markers+lines\",\n",
        "                    name = \"2021 YEAR\",marker = dict(color = 'red')\n",
        "                    )\n",
        "data = [ trace1,trace2, trace3]\n",
        "layout1 = cf.Layout(title = 'RCA in Import 2019-2021- Steam turbines import hikes in 2021 ',\n",
        "    height=600, width=800,  xaxis= dict(title= 'UN COMTRADE',ticklen= 5,zeroline= False)\n",
        ")\n",
        "fig = dict(data = data, layout = layout1)\n",
        "iplot(fig)\n"
      ],
      "metadata": {
        "execution": {
          "iopub.status.busy": "2022-11-05T00:52:48.672535Z",
          "iopub.execute_input": "2022-11-05T00:52:48.673076Z",
          "iopub.status.idle": "2022-11-05T00:52:48.895498Z",
          "shell.execute_reply.started": "2022-11-05T00:52:48.673034Z",
          "shell.execute_reply": "2022-11-05T00:52:48.893788Z"
        },
        "trusted": true,
        "id": "t_0YAkpXGsGp"
      },
      "execution_count": null,
      "outputs": []
    },
    {
      "cell_type": "code",
      "source": [
        "pip install google.colab"
      ],
      "metadata": {
        "execution": {
          "iopub.status.busy": "2022-11-05T07:47:18.901971Z",
          "iopub.execute_input": "2022-11-05T07:47:18.902315Z",
          "iopub.status.idle": "2022-11-05T07:48:09.309762Z",
          "shell.execute_reply.started": "2022-11-05T07:47:18.902289Z",
          "shell.execute_reply": "2022-11-05T07:48:09.308061Z"
        },
        "collapsed": true,
        "jupyter": {
          "outputs_hidden": true
        },
        "trusted": true,
        "id": "x7HLOz9VGsGq"
      },
      "execution_count": null,
      "outputs": []
    },
    {
      "cell_type": "markdown",
      "source": [
        "<H3>PATENTS<H5>\n",
        "    Статистика по выданным патентам, цитирорваниям и их совместному появлению а едином регистрационном  документе была полученя прямиком с помощью сервиса\n",
        "<span style=\"color:orange\">Google Patents </span> через платформу <span style=\"color:orange\">Google Colaboratory </span> на оснвое языка запросов <span style=\"color:orange\">BigQuery</span><br>.Документы включают полную коллекцию выданных патентов и опубликованных патентных заявок из каждой существующей базы данных по всему миру"
      ],
      "metadata": {
        "id": "kIPVClQCGsGq"
      }
    },
    {
      "cell_type": "markdown",
      "source": [
        "Пример выгрузки патентов с кодом МПК начинающегося с <span style=\"color:green\">F01K </span>которые совместно появлялись с подклассом <span style=\"color:red\">F01B</span> начиная с 2011года ****fetching работает только на <span style=\"color:orange\">Google Colaboratory** </span> **https://colab.research.google.com/drive/1xfXKoyiQVm1nt8vy66B18V8URhxLaL5F#scrollTo=6Ia5C2VLGC_A"
      ],
      "metadata": {
        "id": "qtOum0_yGsGr"
      }
    },
    {
      "cell_type": "code",
      "source": [
        "pip install google.colab\n",
        "from google.colab import auth\n",
        "auth.authenticate_user()\n",
        "\n",
        "%%bigquery --project canvas-verve-297310 HO4LF1\n",
        "\n",
        "SELECT COUNT (distinct citation_publ)\n",
        "from \n",
        "(SELECT patents.publication_number, cit.publication_number as citation_publ\n",
        "FROM `patents-public-data.patents.publications` as patents, UNNEST(cpc) AS s, UNNEST(assignee_harmonized) as ah,unnest (citation) as cit\n",
        "where \n",
        "\ts.code like '%F01K%'\n",
        "  AND PATENTS.filing_date>20110207\n",
        "    )\n",
        "where citation_publ in \n",
        "(\n",
        "\n",
        "SELECT \n",
        "CITATIONPATENTS\n",
        "FROM (\n",
        "SELECT patents.publication_number,\n",
        " cit.publication_number AS CITATIONPATENTS\n",
        "FROM `patents-public-data.patents.publications` as patents, UNNEST(cpc) AS s, UNNEST(assignee_harmonized) as ah,unnest (citation) as cit\n",
        "where \n",
        "\ts.code like \n",
        "'%F01B%'\n",
        "  AND PATENTS.filing_date>20110207\n",
        ")PUBLS\n",
        "\n",
        ")"
      ],
      "metadata": {
        "execution": {
          "iopub.status.busy": "2022-11-05T08:30:43.235279Z",
          "iopub.execute_input": "2022-11-05T08:30:43.235603Z",
          "iopub.status.idle": "2022-11-05T08:30:43.245980Z",
          "shell.execute_reply.started": "2022-11-05T08:30:43.235579Z",
          "shell.execute_reply": "2022-11-05T08:30:43.244500Z"
        },
        "collapsed": true,
        "jupyter": {
          "outputs_hidden": true
        },
        "trusted": true,
        "id": "8jOmU63wGsGr"
      },
      "execution_count": null,
      "outputs": []
    },
    {
      "cell_type": "markdown",
      "source": [
        "Загрузка данных по инетерсующим нас патентам 2020 года  "
      ],
      "metadata": {
        "id": "c9DK7T_zGsGs"
      }
    },
    {
      "cell_type": "code",
      "source": [
        "\n",
        "url = \"https://raw.githubusercontent.com/bulattoolpix/SITC/main/patentamt20.csv\" \n",
        "download = requests.get(url).content\n",
        "df = pd.read_csv(io.StringIO(download.decode('utf-8')))\n"
      ],
      "metadata": {
        "execution": {
          "iopub.status.busy": "2022-11-05T08:54:40.656082Z",
          "iopub.execute_input": "2022-11-05T08:54:40.656400Z",
          "iopub.status.idle": "2022-11-05T08:54:40.791663Z",
          "shell.execute_reply.started": "2022-11-05T08:54:40.656376Z",
          "shell.execute_reply": "2022-11-05T08:54:40.790061Z"
        },
        "trusted": true,
        "id": "Om8NNDFXGsGs"
      },
      "execution_count": null,
      "outputs": []
    },
    {
      "cell_type": "code",
      "source": [
        "df"
      ],
      "metadata": {
        "execution": {
          "iopub.status.busy": "2022-11-05T08:54:43.717654Z",
          "iopub.execute_input": "2022-11-05T08:54:43.717963Z",
          "iopub.status.idle": "2022-11-05T08:54:43.742815Z",
          "shell.execute_reply.started": "2022-11-05T08:54:43.717941Z",
          "shell.execute_reply": "2022-11-05T08:54:43.741792Z"
        },
        "collapsed": true,
        "jupyter": {
          "outputs_hidden": true
        },
        "trusted": true,
        "id": "HyGvFqn2GsGs"
      },
      "execution_count": null,
      "outputs": []
    },
    {
      "cell_type": "markdown",
      "source": [
        "**Расчет Revealed Technology Advantage**"
      ],
      "metadata": {
        "id": "8yUTRxW4GsGt"
      }
    },
    {
      "cell_type": "code",
      "source": [
        "\n",
        "rus = []\n",
        "for i in range(len(df)):\n",
        "    a = (df.iloc[:, 2][i]/df.iloc[:, 3][i])\n",
        "    rus.append(a)\n",
        "df['share_ru'] = rus\n",
        "wrld = []\n",
        "for i in range(len(df)):\n",
        "    a = (df.iloc[:, 1][i]/df.iloc[:, 4][i])\n",
        "    wrld.append(a)    \n",
        "df['share_wrld'] = wrld \n",
        "rta = []\n",
        "for i in range(len(df)):\n",
        "    a = (df.iloc[:, 5][i]/df.iloc[:, 6][i])\n",
        "    rta.append(a)\n",
        "df['RTA_RU'] = rta"
      ],
      "metadata": {
        "execution": {
          "iopub.status.busy": "2022-11-05T00:57:56.943274Z",
          "iopub.execute_input": "2022-11-05T00:57:56.943706Z",
          "iopub.status.idle": "2022-11-05T00:57:56.998733Z",
          "shell.execute_reply.started": "2022-11-05T00:57:56.943673Z",
          "shell.execute_reply": "2022-11-05T00:57:56.995498Z"
        },
        "trusted": true,
        "id": "Bc_kBd-eGsGt"
      },
      "execution_count": null,
      "outputs": []
    },
    {
      "cell_type": "code",
      "source": [
        "df"
      ],
      "metadata": {
        "execution": {
          "iopub.status.busy": "2022-11-05T00:58:01.009275Z",
          "iopub.execute_input": "2022-11-05T00:58:01.009751Z",
          "iopub.status.idle": "2022-11-05T00:58:01.032093Z",
          "shell.execute_reply.started": "2022-11-05T00:58:01.009715Z",
          "shell.execute_reply": "2022-11-05T00:58:01.030616Z"
        },
        "trusted": true,
        "id": "FdvPdsnnGsGt"
      },
      "execution_count": null,
      "outputs": []
    },
    {
      "cell_type": "markdown",
      "source": [
        "<h3>Proximity Matrix"
      ],
      "metadata": {
        "id": "E0-WYjapGsGu"
      }
    },
    {
      "cell_type": "markdown",
      "source": [
        "На основе полученной статистики именно совместного появления с 2011 года,была построена Матрица близости двух подклассов патентов составленная путем ра\n",
        "счета <span style=\"color:green\">Cosine similarity</span> then gives a useful measure of how similar two documents are likely to be, in terms of their subject matter, and independently of the length ."
      ],
      "metadata": {
        "id": "2cOP3jiJGsGu"
      }
    },
    {
      "cell_type": "code",
      "source": [
        "m='https://raw.githubusercontent.com/bulattoolpix/SITC/main/proxima_cosine.csv'\n",
        "rc = requests.get(m).content\n",
        "matrix= pd.read_csv(io.StringIO(rc.decode('utf-8')))\n"
      ],
      "metadata": {
        "execution": {
          "iopub.status.busy": "2022-11-05T08:53:52.024971Z",
          "iopub.execute_input": "2022-11-05T08:53:52.025313Z",
          "iopub.status.idle": "2022-11-05T08:53:52.165992Z",
          "shell.execute_reply.started": "2022-11-05T08:53:52.025288Z",
          "shell.execute_reply": "2022-11-05T08:53:52.164695Z"
        },
        "trusted": true,
        "id": "25obz-LoGsGu"
      },
      "execution_count": null,
      "outputs": []
    },
    {
      "cell_type": "code",
      "source": [
        "matrix"
      ],
      "metadata": {
        "execution": {
          "iopub.status.busy": "2022-11-05T08:53:53.388133Z",
          "iopub.execute_input": "2022-11-05T08:53:53.388433Z",
          "iopub.status.idle": "2022-11-05T08:53:53.414129Z",
          "shell.execute_reply.started": "2022-11-05T08:53:53.388411Z",
          "shell.execute_reply": "2022-11-05T08:53:53.413191Z"
        },
        "trusted": true,
        "id": "paBOKoo7GsGu"
      },
      "execution_count": null,
      "outputs": []
    },
    {
      "cell_type": "code",
      "source": [
        "matrix= matrix.replace({'0.00000001!': 1})\n",
        "matrix=matrix.astype(np.float)"
      ],
      "metadata": {
        "execution": {
          "iopub.status.busy": "2022-11-05T08:53:36.984051Z",
          "iopub.execute_input": "2022-11-05T08:53:36.984342Z",
          "iopub.status.idle": "2022-11-05T08:53:37.015943Z",
          "shell.execute_reply.started": "2022-11-05T08:53:36.984320Z",
          "shell.execute_reply": "2022-11-05T08:53:37.014373Z"
        },
        "trusted": true,
        "id": "Z5ALPHrjGsGv"
      },
      "execution_count": null,
      "outputs": []
    },
    {
      "cell_type": "code",
      "source": [
        "matrix"
      ],
      "metadata": {
        "execution": {
          "iopub.status.busy": "2022-11-05T01:18:55.942028Z",
          "iopub.execute_input": "2022-11-05T01:18:55.942462Z",
          "iopub.status.idle": "2022-11-05T01:18:55.978560Z",
          "shell.execute_reply.started": "2022-11-05T01:18:55.942428Z",
          "shell.execute_reply": "2022-11-05T01:18:55.977044Z"
        },
        "trusted": true,
        "id": "sAHWCxmzGsGv"
      },
      "execution_count": null,
      "outputs": []
    },
    {
      "cell_type": "code",
      "source": [
        "matrix.unstack().describe()\n"
      ],
      "metadata": {
        "execution": {
          "iopub.status.busy": "2022-11-05T07:41:26.243981Z",
          "iopub.execute_input": "2022-11-05T07:41:26.244375Z",
          "iopub.status.idle": "2022-11-05T07:41:26.317670Z",
          "shell.execute_reply.started": "2022-11-05T07:41:26.244295Z",
          "shell.execute_reply": "2022-11-05T07:41:26.315998Z"
        },
        "trusted": true,
        "id": "cqthnL6bGsGx"
      },
      "execution_count": null,
      "outputs": []
    },
    {
      "cell_type": "code",
      "source": [
        "matrix.unstack().hist()"
      ],
      "metadata": {
        "execution": {
          "iopub.status.busy": "2022-11-05T01:19:37.651560Z",
          "iopub.execute_input": "2022-11-05T01:19:37.653123Z",
          "iopub.status.idle": "2022-11-05T01:19:37.915724Z",
          "shell.execute_reply.started": "2022-11-05T01:19:37.653067Z",
          "shell.execute_reply": "2022-11-05T01:19:37.913996Z"
        },
        "trusted": true,
        "id": "q3bHKPbbGsGx"
      },
      "execution_count": null,
      "outputs": []
    },
    {
      "cell_type": "code",
      "source": [
        "edge_list =matrix.unstack()\n",
        "edge_list = edge_list[edge_list != 1.0].reset_index()\n",
        "edge_list.columns = [\"P1\",\"P2\",\"weight\"]\n",
        "edge_list"
      ],
      "metadata": {
        "execution": {
          "iopub.status.busy": "2022-11-05T01:21:06.273649Z",
          "iopub.execute_input": "2022-11-05T01:21:06.274326Z",
          "iopub.status.idle": "2022-11-05T01:21:06.298268Z",
          "shell.execute_reply.started": "2022-11-05T01:21:06.274269Z",
          "shell.execute_reply": "2022-11-05T01:21:06.296887Z"
        },
        "trusted": true,
        "id": "L8MZaKKmGsGy"
      },
      "execution_count": null,
      "outputs": []
    },
    {
      "cell_type": "code",
      "source": [
        "reviews = []\n",
        "for i in edge_list['weight']:\n",
        "    if i>= -1.145764 and i <= 0.000223 :\n",
        "        reviews.append('red')\n",
        "    elif  i >0.000223 and i  <= 0.000887  : \n",
        "        reviews.append('orange')\n",
        "    elif  i >0.000887 and i  <= 0.004328  : \n",
        "        reviews.append('orange')\n",
        "    elif  i >0.004328  and i  <= max(edge_list.weight)  : \n",
        "        reviews.append('black')\n",
        "        \n",
        "edge_list['chord']=reviews "
      ],
      "metadata": {
        "execution": {
          "iopub.status.busy": "2022-11-05T01:23:03.560717Z",
          "iopub.execute_input": "2022-11-05T01:23:03.561258Z",
          "iopub.status.idle": "2022-11-05T01:23:04.645787Z",
          "shell.execute_reply.started": "2022-11-05T01:23:03.561220Z",
          "shell.execute_reply": "2022-11-05T01:23:04.644257Z"
        },
        "trusted": true,
        "id": "0nBY6Tf1GsGy"
      },
      "execution_count": null,
      "outputs": []
    },
    {
      "cell_type": "code",
      "source": [
        "edge_list"
      ],
      "metadata": {
        "execution": {
          "iopub.status.busy": "2022-11-05T01:23:05.685632Z",
          "iopub.execute_input": "2022-11-05T01:23:05.686109Z",
          "iopub.status.idle": "2022-11-05T01:23:05.707292Z",
          "shell.execute_reply.started": "2022-11-05T01:23:05.686071Z",
          "shell.execute_reply": "2022-11-05T01:23:05.705803Z"
        },
        "trusted": true,
        "id": "WZvWXGVvGsGy"
      },
      "execution_count": null,
      "outputs": []
    },
    {
      "cell_type": "code",
      "source": [
        "edge_list[\"inv_weight\"] = 1 - edge_list['weight']\n",
        "edge_list[[\"weight\",\"inv_weight\"]].hist();"
      ],
      "metadata": {
        "execution": {
          "iopub.status.busy": "2022-11-05T01:23:22.619686Z",
          "iopub.execute_input": "2022-11-05T01:23:22.620311Z",
          "iopub.status.idle": "2022-11-05T01:23:23.008931Z",
          "shell.execute_reply.started": "2022-11-05T01:23:22.620260Z",
          "shell.execute_reply": "2022-11-05T01:23:23.007443Z"
        },
        "trusted": true,
        "id": "nclcX5V9GsGz"
      },
      "execution_count": null,
      "outputs": []
    },
    {
      "cell_type": "code",
      "source": [],
      "metadata": {
        "id": "hB3CAIXnGsGz"
      },
      "execution_count": null,
      "outputs": []
    }
  ]
}